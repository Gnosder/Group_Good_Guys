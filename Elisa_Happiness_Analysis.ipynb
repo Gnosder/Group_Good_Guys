{
 "cells": [
  {
   "cell_type": "code",
   "execution_count": 1,
   "metadata": {},
   "outputs": [
    {
     "output_type": "error",
     "ename": "ModuleNotFoundError",
     "evalue": "No module named 'matplotlib'",
     "traceback": [
      "\u001b[1;31m---------------------------------------------------------------------------\u001b[0m",
      "\u001b[1;31mModuleNotFoundError\u001b[0m                       Traceback (most recent call last)",
      "\u001b[1;32m<ipython-input-1-2f0d29d157f7>\u001b[0m in \u001b[0;36m<module>\u001b[1;34m\u001b[0m\n\u001b[0;32m      1\u001b[0m \u001b[1;31m# Dependencies\u001b[0m\u001b[1;33m\u001b[0m\u001b[1;33m\u001b[0m\u001b[1;33m\u001b[0m\u001b[0m\n\u001b[1;32m----> 2\u001b[1;33m \u001b[1;32mimport\u001b[0m \u001b[0mmatplotlib\u001b[0m\u001b[1;33m.\u001b[0m\u001b[0mpyplot\u001b[0m \u001b[1;32mas\u001b[0m \u001b[0mplt\u001b[0m\u001b[1;33m\u001b[0m\u001b[1;33m\u001b[0m\u001b[0m\n\u001b[0m\u001b[0;32m      3\u001b[0m \u001b[1;32mimport\u001b[0m \u001b[0mpandas\u001b[0m \u001b[1;32mas\u001b[0m \u001b[0mpd\u001b[0m\u001b[1;33m\u001b[0m\u001b[1;33m\u001b[0m\u001b[0m\n\u001b[0;32m      4\u001b[0m \u001b[1;32mimport\u001b[0m \u001b[0mnumpy\u001b[0m \u001b[1;32mas\u001b[0m \u001b[0mnp\u001b[0m\u001b[1;33m\u001b[0m\u001b[1;33m\u001b[0m\u001b[0m\n\u001b[0;32m      5\u001b[0m \u001b[1;32mimport\u001b[0m \u001b[0mrequests\u001b[0m\u001b[1;33m\u001b[0m\u001b[1;33m\u001b[0m\u001b[0m\n",
      "\u001b[1;31mModuleNotFoundError\u001b[0m: No module named 'matplotlib'"
     ]
    }
   ],
   "source": [
    "# Dependencies\n",
    "import matplotlib.pyplot as plt\n",
    "import pandas as pd\n",
    "import numpy as np\n",
    "import requests\n",
    "import time\n",
    "from scipy.stats import linregress"
   ]
  },
  {
   "cell_type": "code",
   "execution_count": 2,
   "metadata": {},
   "outputs": [
    {
     "output_type": "error",
     "ename": "NameError",
     "evalue": "name 'pd' is not defined",
     "traceback": [
      "\u001b[1;31m---------------------------------------------------------------------------\u001b[0m",
      "\u001b[1;31mNameError\u001b[0m                                 Traceback (most recent call last)",
      "\u001b[1;32m<ipython-input-2-cdf9ab2eb7a0>\u001b[0m in \u001b[0;36m<module>\u001b[1;34m\u001b[0m\n\u001b[0;32m      3\u001b[0m \u001b[1;31m#2015\u001b[0m\u001b[1;33m\u001b[0m\u001b[1;33m\u001b[0m\u001b[1;33m\u001b[0m\u001b[0m\n\u001b[0;32m      4\u001b[0m \u001b[0mhappiness_data_2015\u001b[0m \u001b[1;33m=\u001b[0m \u001b[1;34m\"Resources/2015_Happiness_data.csv\"\u001b[0m\u001b[1;33m\u001b[0m\u001b[1;33m\u001b[0m\u001b[0m\n\u001b[1;32m----> 5\u001b[1;33m \u001b[0mhappiness_df_2015\u001b[0m \u001b[1;33m=\u001b[0m \u001b[0mpd\u001b[0m\u001b[1;33m.\u001b[0m\u001b[0mread_csv\u001b[0m\u001b[1;33m(\u001b[0m\u001b[0mhappiness_data_2015\u001b[0m\u001b[1;33m)\u001b[0m\u001b[1;33m\u001b[0m\u001b[1;33m\u001b[0m\u001b[0m\n\u001b[0m\u001b[0;32m      6\u001b[0m \u001b[1;31m# Set Index to Country, rename columns and drop unnecessary\u001b[0m\u001b[1;33m\u001b[0m\u001b[1;33m\u001b[0m\u001b[1;33m\u001b[0m\u001b[0m\n\u001b[0;32m      7\u001b[0m happiness_df_2015 = happiness_df_2015.set_index(\"Country\").rename(columns = {\n",
      "\u001b[1;31mNameError\u001b[0m: name 'pd' is not defined"
     ]
    }
   ],
   "source": [
    "# Load files and create dataframes in pandas\n",
    "\n",
    "#2015\n",
    "happiness_data_2015 = \"Resources/2015_Happiness_data.csv\"\n",
    "happiness_df_2015 = pd.read_csv(happiness_data_2015)\n",
    "# Set Index to Country, rename columns and drop unnecessary\n",
    "happiness_df_2015 = happiness_df_2015.set_index(\"Country\").rename(columns = {\n",
    "    \"Happiness Rank\":\"2015_rank\", \"Happiness Score\": \"2015_score\", \"Economy (GDP per Capita)\": \"2015_GDP\", \n",
    "    \"Family\": \"2015_family\",\"Health (Life Expectancy)\": \"2015_life_expect\", \"Freedom\": \"2015_freedom\", \n",
    "    \"Generosity\": \"2015_generosity\", \"Trust (Government Corruption)\": \"2015_corruption\", \n",
    "    \"Dystopia Residual\": \"2015_Dystopia\"}).drop([\"Region\", \"Standard Error\"], axis = 1)\n",
    "# happiness_df_2015.to_csv(\"resources/Happiness_data_clean_2015.csv\")\n",
    "\n",
    "#2016\n",
    "happiness_data_2016 = \"Resources/2016_Happiness_data.csv\"\n",
    "happiness_df_2016 = pd.read_csv(happiness_data_2016)\n",
    "# Set Index to Country\n",
    "happiness_df_2016 = happiness_df_2016.set_index(\"Country\")\n",
    "# Rename columns and drop unnecessary\n",
    "happiness_df_2016 = happiness_df_2016.rename(columns = {\n",
    "    \"Happiness Rank\":\"2016_rank\", \"Happiness Score\": \"2016_score\", \"Economy (GDP per Capita)\": \"2016_GDP\", \n",
    "    \"Family\": \"2016_family\",\"Health (Life Expectancy)\": \"2016_life_expect\", \"Freedom\": \"2016_freedom\", \n",
    "    \"Generosity\": \"2016_generosity\", \"Trust (Government Corruption)\": \"2016_corruption\", \n",
    "    \"Dystopia Residual\": \"2016_Dystopia\"}).drop([\"Region\", \"Lower Confidence Interval\", \"Upper Confidence Interval\"], axis = 1)\n",
    "# happiness_df_2016.to_csv(\"resources/Happiness_data_clean_2016.csv\")\n",
    "\n",
    "#2017\n",
    "happiness_data_2017 = \"Resources/2017_Happiness_data.csv\"\n",
    "happiness_df_2017 = pd.read_csv(happiness_data_2017)\n",
    "# Set Index to Country, rename columns and drop unnecessary\n",
    "happiness_df_2017 = happiness_df_2017.set_index(\"Country\").rename(columns = {\n",
    "    \"Happiness.Rank\":\"2017_rank\", \"Happiness.Score\": \"2017_score\", \"Economy..GDP.per.Capita.\": \"2017_GDP\", \n",
    "    \"Family\": \"2017_family\",\"Health..Life.Expectancy.\": \"2017_life_expect\", \"Freedom\": \"2017_freedom\", \n",
    "    \"Generosity\": \"2017_generosity\", \"Trust..Government.Corruption.\": \"2017_corruption\", \n",
    "    \"Dystopia.Residual\": \"2017_Dystopia\"}).drop([\"Whisker.high\", \"Whisker.low\"], axis = 1)\n",
    "# happiness_df_2017.to_csv(\"resources/Happiness_data_clean_2017.csv\")\n",
    "\n",
    "happiness_df_2017.head()\n"
   ]
  },
  {
   "cell_type": "code",
   "execution_count": 3,
   "metadata": {},
   "outputs": [
    {
     "output_type": "error",
     "ename": "NameError",
     "evalue": "name 'pd' is not defined",
     "traceback": [
      "\u001b[1;31m---------------------------------------------------------------------------\u001b[0m",
      "\u001b[1;31mNameError\u001b[0m                                 Traceback (most recent call last)",
      "\u001b[1;32m<ipython-input-3-234326a90493>\u001b[0m in \u001b[0;36m<module>\u001b[1;34m\u001b[0m\n\u001b[0;32m      1\u001b[0m \u001b[1;31m# Merge Data Frames to give summary data frame across time\u001b[0m\u001b[1;33m\u001b[0m\u001b[1;33m\u001b[0m\u001b[1;33m\u001b[0m\u001b[0m\n\u001b[0;32m      2\u001b[0m \u001b[1;33m\u001b[0m\u001b[0m\n\u001b[1;32m----> 3\u001b[1;33m \u001b[0mmerged_1516_df\u001b[0m \u001b[1;33m=\u001b[0m \u001b[0mpd\u001b[0m\u001b[1;33m.\u001b[0m\u001b[0mmerge\u001b[0m\u001b[1;33m(\u001b[0m\u001b[0mhappiness_df_2015\u001b[0m\u001b[1;33m,\u001b[0m \u001b[0mhappiness_df_2016\u001b[0m\u001b[1;33m,\u001b[0m \u001b[0mhow\u001b[0m\u001b[1;33m=\u001b[0m\u001b[1;34m\"left\"\u001b[0m\u001b[1;33m,\u001b[0m \u001b[0mon\u001b[0m\u001b[1;33m=\u001b[0m\u001b[1;33m[\u001b[0m\u001b[1;34m\"Country\"\u001b[0m\u001b[1;33m]\u001b[0m\u001b[1;33m)\u001b[0m\u001b[1;33m\u001b[0m\u001b[1;33m\u001b[0m\u001b[0m\n\u001b[0m\u001b[0;32m      4\u001b[0m \u001b[1;33m\u001b[0m\u001b[0m\n\u001b[0;32m      5\u001b[0m \u001b[0mhappiness_summary_df\u001b[0m \u001b[1;33m=\u001b[0m \u001b[0mpd\u001b[0m\u001b[1;33m.\u001b[0m\u001b[0mmerge\u001b[0m\u001b[1;33m(\u001b[0m\u001b[0mmerged_1516_df\u001b[0m\u001b[1;33m,\u001b[0m \u001b[0mhappiness_df_2017\u001b[0m\u001b[1;33m,\u001b[0m \u001b[0mhow\u001b[0m \u001b[1;33m=\u001b[0m\u001b[1;34m\"left\"\u001b[0m\u001b[1;33m,\u001b[0m \u001b[0mon\u001b[0m\u001b[1;33m=\u001b[0m\u001b[1;33m[\u001b[0m\u001b[1;34m\"Country\"\u001b[0m\u001b[1;33m]\u001b[0m\u001b[1;33m)\u001b[0m\u001b[1;33m\u001b[0m\u001b[1;33m\u001b[0m\u001b[0m\n",
      "\u001b[1;31mNameError\u001b[0m: name 'pd' is not defined"
     ]
    }
   ],
   "source": [
    "# Merge Data Frames to give summary data frame across time\n",
    "\n",
    "merged_1516_df = pd.merge(happiness_df_2015, happiness_df_2016, how=\"left\", on=[\"Country\"])\n",
    "\n",
    "happiness_summary_df = pd.merge(merged_1516_df, happiness_df_2017, how =\"left\", on=[\"Country\"])\n",
    "\n",
    "happiness_summary_df.head()\n"
   ]
  },
  {
   "cell_type": "code",
   "execution_count": 4,
   "metadata": {},
   "outputs": [
    {
     "output_type": "error",
     "ename": "SyntaxError",
     "evalue": "invalid syntax (<ipython-input-4-2a3f483b6077>, line 10)",
     "traceback": [
      "\u001b[1;36m  File \u001b[1;32m\"<ipython-input-4-2a3f483b6077>\"\u001b[1;36m, line \u001b[1;32m10\u001b[0m\n\u001b[1;33m    happiness_rank = [unhappy, neutral, moderately happy, extremely happy]\u001b[0m\n\u001b[1;37m                                                   ^\u001b[0m\n\u001b[1;31mSyntaxError\u001b[0m\u001b[1;31m:\u001b[0m invalid syntax\n"
     ]
    }
   ],
   "source": [
    "# Create Summary Dataframe\n",
    "average_rank = []\n",
    "average_score = []\n",
    "average_GDP\n",
    "average_family = []\n",
    "average_life_expect = []\n",
    "average_freedom = []\n",
    "average_corruption = []\n",
    "average_generosity = []\n",
    "happiness_rank = [unhappy, neutral, moderately happy, extremely happy]\n",
    "\n",
    "\n",
    "summary_df = \n",
    "\n",
    "# For loop"
   ]
  },
  {
   "cell_type": "code",
   "execution_count": 5,
   "metadata": {},
   "outputs": [
    {
     "output_type": "error",
     "ename": "IndentationError",
     "evalue": "unexpected indent (<ipython-input-5-215319ca6f09>, line 17)",
     "traceback": [
      "\u001b[1;36m  File \u001b[1;32m\"<ipython-input-5-215319ca6f09>\"\u001b[1;36m, line \u001b[1;32m17\u001b[0m\n\u001b[1;33m    \"Latitude\", \"Temperature (F)\", \"Images/Plot5.png\" )\u001b[0m\n\u001b[1;37m    ^\u001b[0m\n\u001b[1;31mIndentationError\u001b[0m\u001b[1;31m:\u001b[0m unexpected indent\n"
     ]
    }
   ],
   "source": [
    "# Happiness Data Analysis\n",
    "# Function for scatter plot and linear regression\n",
    "def regression(x_axis, y_axis, title, x_label, y_label, chart_path):\n",
    "    slope, y_int, r, pval, stderr = linregress(x_axis, y_axis)\n",
    "    plt.scatter(x_axis, y_axis)\n",
    "    plt.title(title)\n",
    "    plt.xlabel(x_label)\n",
    "    plt.ylabel(y_label)\n",
    "    plt.grid(b=True, which=\"major\",axis=\"both\", color=\"lightgrey\")\n",
    "    regression = slope * x_axis + y_int\n",
    "    plt.plot(x_axis, regression, color = \"red\")\n",
    "    plt.show()\n",
    "\n",
    "# GDP vs. happiness\n",
    "plt.subplot(2, 2, 1)\n",
    "# regression(northern_df[\"Lat\"], northern_df[\"Temp\"], \"Northern Hemisphere- Temp vs. Latitude\", \n",
    "           \"Latitude\", \"Temperature (F)\", \"Images/Plot5.png\" )\n",
    "\n",
    "# t-test\n",
    "\n",
    "# Freedom vs. happiness\n",
    "\n",
    "# Generosity vs happiness\n",
    "\n",
    "# Family vs happiness\n",
    "\n",
    "# Corruption vs. happiness\n"
   ]
  },
  {
   "cell_type": "code",
   "execution_count": 6,
   "metadata": {},
   "outputs": [],
   "source": [
    "# Group by for income brackets (4)- add to summary dataframe"
   ]
  },
  {
   "cell_type": "code",
   "execution_count": 7,
   "metadata": {},
   "outputs": [],
   "source": [
    "# Box and Whiskers- happiness by income bracket"
   ]
  },
  {
   "cell_type": "code",
   "execution_count": 8,
   "metadata": {},
   "outputs": [],
   "source": [
    "# create bins for corruption, create bins (4 each) for happiness add to summary df"
   ]
  },
  {
   "cell_type": "code",
   "execution_count": 9,
   "metadata": {},
   "outputs": [],
   "source": [
    "# Heat map- happiness by corruption "
   ]
  }
 ],
 "metadata": {
  "kernelspec": {
   "display_name": "Python 3",
   "language": "python",
   "name": "python3"
  },
  "language_info": {
   "codemirror_mode": {
    "name": "ipython",
    "version": 3
   },
   "file_extension": ".py",
   "mimetype": "text/x-python",
   "name": "python",
   "nbconvert_exporter": "python",
   "pygments_lexer": "ipython3",
   "version": "3.7.6"
  }
 },
 "nbformat": 4,
 "nbformat_minor": 4
}