{
 "cells": [
  {
   "cell_type": "markdown",
   "metadata": {},
   "source": [
    "## Dependencies"
   ]
  },
  {
   "cell_type": "code",
   "execution_count": 1,
   "metadata": {},
   "outputs": [],
   "source": [
    "import matplotlib.pyplot as plt\n",
    "import pandas as pd\n",
    "import numpy as np"
   ]
  },
  {
   "cell_type": "markdown",
   "metadata": {},
   "source": [
    "## Reading data into data frames"
   ]
  },
  {
   "cell_type": "code",
   "execution_count": 8,
   "metadata": {
    "tags": []
   },
   "outputs": [
    {
     "output_type": "execute_result",
     "data": {
      "text/plain": "       Country          Region  Happiness Rank  Happiness Score  \\\n0  Switzerland  Western Europe               1            7.587   \n1      Iceland  Western Europe               2            7.561   \n2      Denmark  Western Europe               3            7.527   \n3       Norway  Western Europe               4            7.522   \n4       Canada   North America               5            7.427   \n\n   Standard Error  Economy (GDP per Capita)   Family  \\\n0         0.03411                   1.39651  1.34951   \n1         0.04884                   1.30232  1.40223   \n2         0.03328                   1.32548  1.36058   \n3         0.03880                   1.45900  1.33095   \n4         0.03553                   1.32629  1.32261   \n\n   Health (Life Expectancy)  Freedom  Trust (Government Corruption)  \\\n0                   0.94143  0.66557                        0.41978   \n1                   0.94784  0.62877                        0.14145   \n2                   0.87464  0.64938                        0.48357   \n3                   0.88521  0.66973                        0.36503   \n4                   0.90563  0.63297                        0.32957   \n\n   Generosity  Dystopia Residual  \n0     0.29678            2.51738  \n1     0.43630            2.70201  \n2     0.34139            2.49204  \n3     0.34699            2.46531  \n4     0.45811            2.45176  ",
      "text/html": "<div>\n<style scoped>\n    .dataframe tbody tr th:only-of-type {\n        vertical-align: middle;\n    }\n\n    .dataframe tbody tr th {\n        vertical-align: top;\n    }\n\n    .dataframe thead th {\n        text-align: right;\n    }\n</style>\n<table border=\"1\" class=\"dataframe\">\n  <thead>\n    <tr style=\"text-align: right;\">\n      <th></th>\n      <th>Country</th>\n      <th>Region</th>\n      <th>Happiness Rank</th>\n      <th>Happiness Score</th>\n      <th>Standard Error</th>\n      <th>Economy (GDP per Capita)</th>\n      <th>Family</th>\n      <th>Health (Life Expectancy)</th>\n      <th>Freedom</th>\n      <th>Trust (Government Corruption)</th>\n      <th>Generosity</th>\n      <th>Dystopia Residual</th>\n    </tr>\n  </thead>\n  <tbody>\n    <tr>\n      <th>0</th>\n      <td>Switzerland</td>\n      <td>Western Europe</td>\n      <td>1</td>\n      <td>7.587</td>\n      <td>0.03411</td>\n      <td>1.39651</td>\n      <td>1.34951</td>\n      <td>0.94143</td>\n      <td>0.66557</td>\n      <td>0.41978</td>\n      <td>0.29678</td>\n      <td>2.51738</td>\n    </tr>\n    <tr>\n      <th>1</th>\n      <td>Iceland</td>\n      <td>Western Europe</td>\n      <td>2</td>\n      <td>7.561</td>\n      <td>0.04884</td>\n      <td>1.30232</td>\n      <td>1.40223</td>\n      <td>0.94784</td>\n      <td>0.62877</td>\n      <td>0.14145</td>\n      <td>0.43630</td>\n      <td>2.70201</td>\n    </tr>\n    <tr>\n      <th>2</th>\n      <td>Denmark</td>\n      <td>Western Europe</td>\n      <td>3</td>\n      <td>7.527</td>\n      <td>0.03328</td>\n      <td>1.32548</td>\n      <td>1.36058</td>\n      <td>0.87464</td>\n      <td>0.64938</td>\n      <td>0.48357</td>\n      <td>0.34139</td>\n      <td>2.49204</td>\n    </tr>\n    <tr>\n      <th>3</th>\n      <td>Norway</td>\n      <td>Western Europe</td>\n      <td>4</td>\n      <td>7.522</td>\n      <td>0.03880</td>\n      <td>1.45900</td>\n      <td>1.33095</td>\n      <td>0.88521</td>\n      <td>0.66973</td>\n      <td>0.36503</td>\n      <td>0.34699</td>\n      <td>2.46531</td>\n    </tr>\n    <tr>\n      <th>4</th>\n      <td>Canada</td>\n      <td>North America</td>\n      <td>5</td>\n      <td>7.427</td>\n      <td>0.03553</td>\n      <td>1.32629</td>\n      <td>1.32261</td>\n      <td>0.90563</td>\n      <td>0.63297</td>\n      <td>0.32957</td>\n      <td>0.45811</td>\n      <td>2.45176</td>\n    </tr>\n  </tbody>\n</table>\n</div>"
     },
     "metadata": {},
     "execution_count": 8
    }
   ],
   "source": [
    "w_happiness_15 = 'Resources/2015_Happiness_data.csv'\n",
    "w_happiness_16 = 'Resources/2016_Happiness_data.csv'\n",
    "w_happiness_17 = 'Resources/2017_Happiness_data.csv'\n",
    "\n",
    "h15_df = pd.read_csv(w_happiness_15)\n",
    "h16_df = pd.read_csv(w_happiness_16)\n",
    "h17_df = pd.read_csv(w_happiness_17)\n",
    "\n",
    "h15.head()"
   ]
  },
  {
   "cell_type": "markdown",
   "metadata": {},
   "source": [
    "## Merging and Cleaning data"
   ]
  },
  {
   "cell_type": "code",
   "execution_count": 9,
   "metadata": {},
   "outputs": [
    {
     "output_type": "execute_result",
     "data": {
      "text/plain": "                      Country       Region_15  Happiness Rank_15  \\\n0                 Switzerland  Western Europe                1.0   \n1                     Iceland  Western Europe                2.0   \n2                     Denmark  Western Europe                3.0   \n3                      Norway  Western Europe                4.0   \n4                      Canada   North America                5.0   \n..                        ...             ...                ...   \n161         Somaliland Region             NaN                NaN   \n162                   Namibia             NaN                NaN   \n163               South Sudan             NaN                NaN   \n164  Taiwan Province of China             NaN                NaN   \n165   Hong Kong S.A.R., China             NaN                NaN   \n\n     Happiness Score_15  Standard Error  Economy (GDP per Capita)_15  \\\n0                 7.587         0.03411                      1.39651   \n1                 7.561         0.04884                      1.30232   \n2                 7.527         0.03328                      1.32548   \n3                 7.522         0.03880                      1.45900   \n4                 7.427         0.03553                      1.32629   \n..                  ...             ...                          ...   \n161                 NaN             NaN                          NaN   \n162                 NaN             NaN                          NaN   \n163                 NaN             NaN                          NaN   \n164                 NaN             NaN                          NaN   \n165                 NaN             NaN                          NaN   \n\n     Family_15  Health (Life Expectancy)_15  Freedom_15  \\\n0      1.34951                      0.94143     0.66557   \n1      1.40223                      0.94784     0.62877   \n2      1.36058                      0.87464     0.64938   \n3      1.33095                      0.88521     0.66973   \n4      1.32261                      0.90563     0.63297   \n..         ...                          ...         ...   \n161        NaN                          NaN         NaN   \n162        NaN                          NaN         NaN   \n163        NaN                          NaN         NaN   \n164        NaN                          NaN         NaN   \n165        NaN                          NaN         NaN   \n\n     Trust (Government Corruption)_15  ...  Happiness.Score  Whisker.high  \\\n0                             0.41978  ...            7.494      7.561772   \n1                             0.14145  ...            7.504      7.622030   \n2                             0.48357  ...            7.522      7.581728   \n3                             0.36503  ...            7.537      7.594445   \n4                             0.32957  ...            7.316      7.384403   \n..                                ...  ...              ...           ...   \n161                               NaN  ...              NaN           NaN   \n162                               NaN  ...            4.574      4.770355   \n163                               NaN  ...            3.591      3.725539   \n164                               NaN  ...            6.422      6.494596   \n165                               NaN  ...            5.472      5.549594   \n\n    Whisker.low  Economy..GDP.per.Capita.    Family  Health..Life.Expectancy.  \\\n0      7.426227                  1.564980  1.516912                  0.858131   \n1      7.385970                  1.480633  1.610574                  0.833552   \n2      7.462272                  1.482383  1.551122                  0.792566   \n3      7.479556                  1.616463  1.533524                  0.796667   \n4      7.247597                  1.479204  1.481349                  0.834558   \n..          ...                       ...       ...                       ...   \n161         NaN                       NaN       NaN                       NaN   \n162    4.377645                  0.964434  1.098471                  0.338612   \n163    3.456462                  0.397249  0.601323                  0.163486   \n164    6.349404                  1.433627  1.384565                  0.793984   \n165    5.394406                  1.551675  1.262791                  0.943062   \n\n      Freedom  Generosity  Trust..Government.Corruption.  Dystopia.Residual  \n0    0.620071    0.290549                       0.367007           2.276716  \n1    0.627163    0.475540                       0.153527           2.322715  \n2    0.626007    0.355280                       0.400770           2.313707  \n3    0.635423    0.362012                       0.315964           2.277027  \n4    0.611101    0.435540                       0.287372           2.187264  \n..        ...         ...                            ...                ...  \n161       NaN         NaN                            NaN                NaN  \n162  0.520304    0.077134                       0.093147           1.481890  \n163  0.147062    0.285671                       0.116794           1.879567  \n164  0.361467    0.258360                       0.063829           2.126607  \n165  0.490969    0.374466                       0.293934           0.554633  \n\n[166 rows x 35 columns]",
      "text/html": "<div>\n<style scoped>\n    .dataframe tbody tr th:only-of-type {\n        vertical-align: middle;\n    }\n\n    .dataframe tbody tr th {\n        vertical-align: top;\n    }\n\n    .dataframe thead th {\n        text-align: right;\n    }\n</style>\n<table border=\"1\" class=\"dataframe\">\n  <thead>\n    <tr style=\"text-align: right;\">\n      <th></th>\n      <th>Country</th>\n      <th>Region_15</th>\n      <th>Happiness Rank_15</th>\n      <th>Happiness Score_15</th>\n      <th>Standard Error</th>\n      <th>Economy (GDP per Capita)_15</th>\n      <th>Family_15</th>\n      <th>Health (Life Expectancy)_15</th>\n      <th>Freedom_15</th>\n      <th>Trust (Government Corruption)_15</th>\n      <th>...</th>\n      <th>Happiness.Score</th>\n      <th>Whisker.high</th>\n      <th>Whisker.low</th>\n      <th>Economy..GDP.per.Capita.</th>\n      <th>Family</th>\n      <th>Health..Life.Expectancy.</th>\n      <th>Freedom</th>\n      <th>Generosity</th>\n      <th>Trust..Government.Corruption.</th>\n      <th>Dystopia.Residual</th>\n    </tr>\n  </thead>\n  <tbody>\n    <tr>\n      <th>0</th>\n      <td>Switzerland</td>\n      <td>Western Europe</td>\n      <td>1.0</td>\n      <td>7.587</td>\n      <td>0.03411</td>\n      <td>1.39651</td>\n      <td>1.34951</td>\n      <td>0.94143</td>\n      <td>0.66557</td>\n      <td>0.41978</td>\n      <td>...</td>\n      <td>7.494</td>\n      <td>7.561772</td>\n      <td>7.426227</td>\n      <td>1.564980</td>\n      <td>1.516912</td>\n      <td>0.858131</td>\n      <td>0.620071</td>\n      <td>0.290549</td>\n      <td>0.367007</td>\n      <td>2.276716</td>\n    </tr>\n    <tr>\n      <th>1</th>\n      <td>Iceland</td>\n      <td>Western Europe</td>\n      <td>2.0</td>\n      <td>7.561</td>\n      <td>0.04884</td>\n      <td>1.30232</td>\n      <td>1.40223</td>\n      <td>0.94784</td>\n      <td>0.62877</td>\n      <td>0.14145</td>\n      <td>...</td>\n      <td>7.504</td>\n      <td>7.622030</td>\n      <td>7.385970</td>\n      <td>1.480633</td>\n      <td>1.610574</td>\n      <td>0.833552</td>\n      <td>0.627163</td>\n      <td>0.475540</td>\n      <td>0.153527</td>\n      <td>2.322715</td>\n    </tr>\n    <tr>\n      <th>2</th>\n      <td>Denmark</td>\n      <td>Western Europe</td>\n      <td>3.0</td>\n      <td>7.527</td>\n      <td>0.03328</td>\n      <td>1.32548</td>\n      <td>1.36058</td>\n      <td>0.87464</td>\n      <td>0.64938</td>\n      <td>0.48357</td>\n      <td>...</td>\n      <td>7.522</td>\n      <td>7.581728</td>\n      <td>7.462272</td>\n      <td>1.482383</td>\n      <td>1.551122</td>\n      <td>0.792566</td>\n      <td>0.626007</td>\n      <td>0.355280</td>\n      <td>0.400770</td>\n      <td>2.313707</td>\n    </tr>\n    <tr>\n      <th>3</th>\n      <td>Norway</td>\n      <td>Western Europe</td>\n      <td>4.0</td>\n      <td>7.522</td>\n      <td>0.03880</td>\n      <td>1.45900</td>\n      <td>1.33095</td>\n      <td>0.88521</td>\n      <td>0.66973</td>\n      <td>0.36503</td>\n      <td>...</td>\n      <td>7.537</td>\n      <td>7.594445</td>\n      <td>7.479556</td>\n      <td>1.616463</td>\n      <td>1.533524</td>\n      <td>0.796667</td>\n      <td>0.635423</td>\n      <td>0.362012</td>\n      <td>0.315964</td>\n      <td>2.277027</td>\n    </tr>\n    <tr>\n      <th>4</th>\n      <td>Canada</td>\n      <td>North America</td>\n      <td>5.0</td>\n      <td>7.427</td>\n      <td>0.03553</td>\n      <td>1.32629</td>\n      <td>1.32261</td>\n      <td>0.90563</td>\n      <td>0.63297</td>\n      <td>0.32957</td>\n      <td>...</td>\n      <td>7.316</td>\n      <td>7.384403</td>\n      <td>7.247597</td>\n      <td>1.479204</td>\n      <td>1.481349</td>\n      <td>0.834558</td>\n      <td>0.611101</td>\n      <td>0.435540</td>\n      <td>0.287372</td>\n      <td>2.187264</td>\n    </tr>\n    <tr>\n      <th>...</th>\n      <td>...</td>\n      <td>...</td>\n      <td>...</td>\n      <td>...</td>\n      <td>...</td>\n      <td>...</td>\n      <td>...</td>\n      <td>...</td>\n      <td>...</td>\n      <td>...</td>\n      <td>...</td>\n      <td>...</td>\n      <td>...</td>\n      <td>...</td>\n      <td>...</td>\n      <td>...</td>\n      <td>...</td>\n      <td>...</td>\n      <td>...</td>\n      <td>...</td>\n      <td>...</td>\n    </tr>\n    <tr>\n      <th>161</th>\n      <td>Somaliland Region</td>\n      <td>NaN</td>\n      <td>NaN</td>\n      <td>NaN</td>\n      <td>NaN</td>\n      <td>NaN</td>\n      <td>NaN</td>\n      <td>NaN</td>\n      <td>NaN</td>\n      <td>NaN</td>\n      <td>...</td>\n      <td>NaN</td>\n      <td>NaN</td>\n      <td>NaN</td>\n      <td>NaN</td>\n      <td>NaN</td>\n      <td>NaN</td>\n      <td>NaN</td>\n      <td>NaN</td>\n      <td>NaN</td>\n      <td>NaN</td>\n    </tr>\n    <tr>\n      <th>162</th>\n      <td>Namibia</td>\n      <td>NaN</td>\n      <td>NaN</td>\n      <td>NaN</td>\n      <td>NaN</td>\n      <td>NaN</td>\n      <td>NaN</td>\n      <td>NaN</td>\n      <td>NaN</td>\n      <td>NaN</td>\n      <td>...</td>\n      <td>4.574</td>\n      <td>4.770355</td>\n      <td>4.377645</td>\n      <td>0.964434</td>\n      <td>1.098471</td>\n      <td>0.338612</td>\n      <td>0.520304</td>\n      <td>0.077134</td>\n      <td>0.093147</td>\n      <td>1.481890</td>\n    </tr>\n    <tr>\n      <th>163</th>\n      <td>South Sudan</td>\n      <td>NaN</td>\n      <td>NaN</td>\n      <td>NaN</td>\n      <td>NaN</td>\n      <td>NaN</td>\n      <td>NaN</td>\n      <td>NaN</td>\n      <td>NaN</td>\n      <td>NaN</td>\n      <td>...</td>\n      <td>3.591</td>\n      <td>3.725539</td>\n      <td>3.456462</td>\n      <td>0.397249</td>\n      <td>0.601323</td>\n      <td>0.163486</td>\n      <td>0.147062</td>\n      <td>0.285671</td>\n      <td>0.116794</td>\n      <td>1.879567</td>\n    </tr>\n    <tr>\n      <th>164</th>\n      <td>Taiwan Province of China</td>\n      <td>NaN</td>\n      <td>NaN</td>\n      <td>NaN</td>\n      <td>NaN</td>\n      <td>NaN</td>\n      <td>NaN</td>\n      <td>NaN</td>\n      <td>NaN</td>\n      <td>NaN</td>\n      <td>...</td>\n      <td>6.422</td>\n      <td>6.494596</td>\n      <td>6.349404</td>\n      <td>1.433627</td>\n      <td>1.384565</td>\n      <td>0.793984</td>\n      <td>0.361467</td>\n      <td>0.258360</td>\n      <td>0.063829</td>\n      <td>2.126607</td>\n    </tr>\n    <tr>\n      <th>165</th>\n      <td>Hong Kong S.A.R., China</td>\n      <td>NaN</td>\n      <td>NaN</td>\n      <td>NaN</td>\n      <td>NaN</td>\n      <td>NaN</td>\n      <td>NaN</td>\n      <td>NaN</td>\n      <td>NaN</td>\n      <td>NaN</td>\n      <td>...</td>\n      <td>5.472</td>\n      <td>5.549594</td>\n      <td>5.394406</td>\n      <td>1.551675</td>\n      <td>1.262791</td>\n      <td>0.943062</td>\n      <td>0.490969</td>\n      <td>0.374466</td>\n      <td>0.293934</td>\n      <td>0.554633</td>\n    </tr>\n  </tbody>\n</table>\n<p>166 rows × 35 columns</p>\n</div>"
     },
     "metadata": {},
     "execution_count": 9
    }
   ],
   "source": [
    "merged_1_df = pd.merge(h15_df, h16_df, how='outer', on='Country', suffixes=('_15', '_16'))\n",
    "\n",
    "merged_2_df = pd.merge(merged_1_df, h17_df, how='outer', on='Country')\n",
    "merged_2_df\n"
   ]
  }
 ],
 "metadata": {
  "language_info": {
   "codemirror_mode": {
    "name": "ipython",
    "version": 3
   },
   "file_extension": ".py",
   "mimetype": "text/x-python",
   "name": "python",
   "nbconvert_exporter": "python",
   "pygments_lexer": "ipython3",
   "version": 3
  },
  "orig_nbformat": 2,
  "kernelspec": {
   "name": "python_defaultSpec_1594496935627",
   "display_name": "Python 3.7.6 64-bit ('patri': virtualenv)"
  }
 },
 "nbformat": 4,
 "nbformat_minor": 2
}