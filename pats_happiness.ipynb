{
 "cells": [
  {
   "cell_type": "markdown",
   "metadata": {},
   "source": [
    "## Dependencies"
   ]
  },
  {
   "cell_type": "code",
   "execution_count": 1,
   "metadata": {},
   "outputs": [],
   "source": [
    "import matplotlib.pyplot as plt\n",
    "import pandas as pd\n",
    "import numpy as np"
   ]
  },
  {
   "cell_type": "markdown",
   "metadata": {},
   "source": [
    "## Reading data into data frames"
   ]
  },
  {
   "cell_type": "code",
   "execution_count": 12,
   "metadata": {
    "tags": []
   },
   "outputs": [
    {
     "output_type": "execute_result",
     "data": {
      "text/plain": "       Country  Happiness.Rank  Happiness.Score  Whisker.high  Whisker.low  \\\n0       Norway               1            7.537      7.594445     7.479556   \n1      Denmark               2            7.522      7.581728     7.462272   \n2      Iceland               3            7.504      7.622030     7.385970   \n3  Switzerland               4            7.494      7.561772     7.426227   \n4      Finland               5            7.469      7.527542     7.410458   \n\n   Economy..GDP.per.Capita.    Family  Health..Life.Expectancy.   Freedom  \\\n0                  1.616463  1.533524                  0.796667  0.635423   \n1                  1.482383  1.551122                  0.792566  0.626007   \n2                  1.480633  1.610574                  0.833552  0.627163   \n3                  1.564980  1.516912                  0.858131  0.620071   \n4                  1.443572  1.540247                  0.809158  0.617951   \n\n   Generosity  Trust..Government.Corruption.  Dystopia.Residual  \n0    0.362012                       0.315964           2.277027  \n1    0.355280                       0.400770           2.313707  \n2    0.475540                       0.153527           2.322715  \n3    0.290549                       0.367007           2.276716  \n4    0.245483                       0.382612           2.430182  ",
      "text/html": "<div>\n<style scoped>\n    .dataframe tbody tr th:only-of-type {\n        vertical-align: middle;\n    }\n\n    .dataframe tbody tr th {\n        vertical-align: top;\n    }\n\n    .dataframe thead th {\n        text-align: right;\n    }\n</style>\n<table border=\"1\" class=\"dataframe\">\n  <thead>\n    <tr style=\"text-align: right;\">\n      <th></th>\n      <th>Country</th>\n      <th>Happiness.Rank</th>\n      <th>Happiness.Score</th>\n      <th>Whisker.high</th>\n      <th>Whisker.low</th>\n      <th>Economy..GDP.per.Capita.</th>\n      <th>Family</th>\n      <th>Health..Life.Expectancy.</th>\n      <th>Freedom</th>\n      <th>Generosity</th>\n      <th>Trust..Government.Corruption.</th>\n      <th>Dystopia.Residual</th>\n    </tr>\n  </thead>\n  <tbody>\n    <tr>\n      <th>0</th>\n      <td>Norway</td>\n      <td>1</td>\n      <td>7.537</td>\n      <td>7.594445</td>\n      <td>7.479556</td>\n      <td>1.616463</td>\n      <td>1.533524</td>\n      <td>0.796667</td>\n      <td>0.635423</td>\n      <td>0.362012</td>\n      <td>0.315964</td>\n      <td>2.277027</td>\n    </tr>\n    <tr>\n      <th>1</th>\n      <td>Denmark</td>\n      <td>2</td>\n      <td>7.522</td>\n      <td>7.581728</td>\n      <td>7.462272</td>\n      <td>1.482383</td>\n      <td>1.551122</td>\n      <td>0.792566</td>\n      <td>0.626007</td>\n      <td>0.355280</td>\n      <td>0.400770</td>\n      <td>2.313707</td>\n    </tr>\n    <tr>\n      <th>2</th>\n      <td>Iceland</td>\n      <td>3</td>\n      <td>7.504</td>\n      <td>7.622030</td>\n      <td>7.385970</td>\n      <td>1.480633</td>\n      <td>1.610574</td>\n      <td>0.833552</td>\n      <td>0.627163</td>\n      <td>0.475540</td>\n      <td>0.153527</td>\n      <td>2.322715</td>\n    </tr>\n    <tr>\n      <th>3</th>\n      <td>Switzerland</td>\n      <td>4</td>\n      <td>7.494</td>\n      <td>7.561772</td>\n      <td>7.426227</td>\n      <td>1.564980</td>\n      <td>1.516912</td>\n      <td>0.858131</td>\n      <td>0.620071</td>\n      <td>0.290549</td>\n      <td>0.367007</td>\n      <td>2.276716</td>\n    </tr>\n    <tr>\n      <th>4</th>\n      <td>Finland</td>\n      <td>5</td>\n      <td>7.469</td>\n      <td>7.527542</td>\n      <td>7.410458</td>\n      <td>1.443572</td>\n      <td>1.540247</td>\n      <td>0.809158</td>\n      <td>0.617951</td>\n      <td>0.245483</td>\n      <td>0.382612</td>\n      <td>2.430182</td>\n    </tr>\n  </tbody>\n</table>\n</div>"
     },
     "metadata": {},
     "execution_count": 12
    }
   ],
   "source": [
    "w_happiness_15 = 'Resources/2015_Happiness_data.csv'\n",
    "w_happiness_16 = 'Resources/2016_Happiness_data.csv'\n",
    "w_happiness_17 = 'Resources/2017_Happiness_data.csv'\n",
    "\n",
    "h15_df = pd.read_csv(w_happiness_15)\n",
    "h16_df = pd.read_csv(w_happiness_16)\n",
    "h17_df = pd.read_csv(w_happiness_17)\n",
    "\n",
    "h17.head()"
   ]
  },
  {
   "cell_type": "markdown",
   "metadata": {},
   "source": [
    "## Merging and Cleaning data"
   ]
  },
  {
   "cell_type": "code",
   "execution_count": 10,
   "metadata": {},
   "outputs": [
    {
     "output_type": "execute_result",
     "data": {
      "text/plain": "       Country       Region_15  Happiness Rank_15  Happiness Score_15  \\\n0  Switzerland  Western Europe                1.0               7.587   \n1      Iceland  Western Europe                2.0               7.561   \n2      Denmark  Western Europe                3.0               7.527   \n3       Norway  Western Europe                4.0               7.522   \n4       Canada   North America                5.0               7.427   \n\n   Standard Error  Economy (GDP per Capita)_15  Family_15  \\\n0         0.03411                      1.39651    1.34951   \n1         0.04884                      1.30232    1.40223   \n2         0.03328                      1.32548    1.36058   \n3         0.03880                      1.45900    1.33095   \n4         0.03553                      1.32629    1.32261   \n\n   Health (Life Expectancy)_15  Freedom_15  Trust (Government Corruption)_15  \\\n0                      0.94143     0.66557                           0.41978   \n1                      0.94784     0.62877                           0.14145   \n2                      0.87464     0.64938                           0.48357   \n3                      0.88521     0.66973                           0.36503   \n4                      0.90563     0.63297                           0.32957   \n\n   ...  Happiness.Score  Whisker.high Whisker.low  Economy..GDP.per.Capita.  \\\n0  ...            7.494      7.561772    7.426227                  1.564980   \n1  ...            7.504      7.622030    7.385970                  1.480633   \n2  ...            7.522      7.581728    7.462272                  1.482383   \n3  ...            7.537      7.594445    7.479556                  1.616463   \n4  ...            7.316      7.384403    7.247597                  1.479204   \n\n     Family  Health..Life.Expectancy.   Freedom  Generosity  \\\n0  1.516912                  0.858131  0.620071    0.290549   \n1  1.610574                  0.833552  0.627163    0.475540   \n2  1.551122                  0.792566  0.626007    0.355280   \n3  1.533524                  0.796667  0.635423    0.362012   \n4  1.481349                  0.834558  0.611101    0.435540   \n\n   Trust..Government.Corruption.  Dystopia.Residual  \n0                       0.367007           2.276716  \n1                       0.153527           2.322715  \n2                       0.400770           2.313707  \n3                       0.315964           2.277027  \n4                       0.287372           2.187264  \n\n[5 rows x 35 columns]",
      "text/html": "<div>\n<style scoped>\n    .dataframe tbody tr th:only-of-type {\n        vertical-align: middle;\n    }\n\n    .dataframe tbody tr th {\n        vertical-align: top;\n    }\n\n    .dataframe thead th {\n        text-align: right;\n    }\n</style>\n<table border=\"1\" class=\"dataframe\">\n  <thead>\n    <tr style=\"text-align: right;\">\n      <th></th>\n      <th>Country</th>\n      <th>Region_15</th>\n      <th>Happiness Rank_15</th>\n      <th>Happiness Score_15</th>\n      <th>Standard Error</th>\n      <th>Economy (GDP per Capita)_15</th>\n      <th>Family_15</th>\n      <th>Health (Life Expectancy)_15</th>\n      <th>Freedom_15</th>\n      <th>Trust (Government Corruption)_15</th>\n      <th>...</th>\n      <th>Happiness.Score</th>\n      <th>Whisker.high</th>\n      <th>Whisker.low</th>\n      <th>Economy..GDP.per.Capita.</th>\n      <th>Family</th>\n      <th>Health..Life.Expectancy.</th>\n      <th>Freedom</th>\n      <th>Generosity</th>\n      <th>Trust..Government.Corruption.</th>\n      <th>Dystopia.Residual</th>\n    </tr>\n  </thead>\n  <tbody>\n    <tr>\n      <th>0</th>\n      <td>Switzerland</td>\n      <td>Western Europe</td>\n      <td>1.0</td>\n      <td>7.587</td>\n      <td>0.03411</td>\n      <td>1.39651</td>\n      <td>1.34951</td>\n      <td>0.94143</td>\n      <td>0.66557</td>\n      <td>0.41978</td>\n      <td>...</td>\n      <td>7.494</td>\n      <td>7.561772</td>\n      <td>7.426227</td>\n      <td>1.564980</td>\n      <td>1.516912</td>\n      <td>0.858131</td>\n      <td>0.620071</td>\n      <td>0.290549</td>\n      <td>0.367007</td>\n      <td>2.276716</td>\n    </tr>\n    <tr>\n      <th>1</th>\n      <td>Iceland</td>\n      <td>Western Europe</td>\n      <td>2.0</td>\n      <td>7.561</td>\n      <td>0.04884</td>\n      <td>1.30232</td>\n      <td>1.40223</td>\n      <td>0.94784</td>\n      <td>0.62877</td>\n      <td>0.14145</td>\n      <td>...</td>\n      <td>7.504</td>\n      <td>7.622030</td>\n      <td>7.385970</td>\n      <td>1.480633</td>\n      <td>1.610574</td>\n      <td>0.833552</td>\n      <td>0.627163</td>\n      <td>0.475540</td>\n      <td>0.153527</td>\n      <td>2.322715</td>\n    </tr>\n    <tr>\n      <th>2</th>\n      <td>Denmark</td>\n      <td>Western Europe</td>\n      <td>3.0</td>\n      <td>7.527</td>\n      <td>0.03328</td>\n      <td>1.32548</td>\n      <td>1.36058</td>\n      <td>0.87464</td>\n      <td>0.64938</td>\n      <td>0.48357</td>\n      <td>...</td>\n      <td>7.522</td>\n      <td>7.581728</td>\n      <td>7.462272</td>\n      <td>1.482383</td>\n      <td>1.551122</td>\n      <td>0.792566</td>\n      <td>0.626007</td>\n      <td>0.355280</td>\n      <td>0.400770</td>\n      <td>2.313707</td>\n    </tr>\n    <tr>\n      <th>3</th>\n      <td>Norway</td>\n      <td>Western Europe</td>\n      <td>4.0</td>\n      <td>7.522</td>\n      <td>0.03880</td>\n      <td>1.45900</td>\n      <td>1.33095</td>\n      <td>0.88521</td>\n      <td>0.66973</td>\n      <td>0.36503</td>\n      <td>...</td>\n      <td>7.537</td>\n      <td>7.594445</td>\n      <td>7.479556</td>\n      <td>1.616463</td>\n      <td>1.533524</td>\n      <td>0.796667</td>\n      <td>0.635423</td>\n      <td>0.362012</td>\n      <td>0.315964</td>\n      <td>2.277027</td>\n    </tr>\n    <tr>\n      <th>4</th>\n      <td>Canada</td>\n      <td>North America</td>\n      <td>5.0</td>\n      <td>7.427</td>\n      <td>0.03553</td>\n      <td>1.32629</td>\n      <td>1.32261</td>\n      <td>0.90563</td>\n      <td>0.63297</td>\n      <td>0.32957</td>\n      <td>...</td>\n      <td>7.316</td>\n      <td>7.384403</td>\n      <td>7.247597</td>\n      <td>1.479204</td>\n      <td>1.481349</td>\n      <td>0.834558</td>\n      <td>0.611101</td>\n      <td>0.435540</td>\n      <td>0.287372</td>\n      <td>2.187264</td>\n    </tr>\n  </tbody>\n</table>\n<p>5 rows × 35 columns</p>\n</div>"
     },
     "metadata": {},
     "execution_count": 10
    }
   ],
   "source": [
    "merged_1_df = pd.merge(h15_df, h16_df, how='outer', on='Country', suffixes=('_15', '_16'))\n",
    "\n",
    "merged_2_df = pd.merge(merged_1_df, h17_df, how='outer', on='Country')\n",
    "merged_2_df.head()\n"
   ]
  },
  {
   "cell_type": "code",
   "execution_count": null,
   "metadata": {},
   "outputs": [],
   "source": [
    "## Plaintext brainstorm of reports to pull\n",
    "\n",
    "# Columns in data set\n",
    "happiness rank\n",
    "happiness score\n",
    "standard error\n",
    "gdp per capita\n",
    "family size\n",
    "life expectancy\n",
    "freedom\n",
    "governmental trust\n",
    "Generosity\n",
    "deaths per 1000 from air quality\n",
    "CO2 emissionsCO2 emissions\n",
    "opening day sales\n",
    "gross sales\n",
    "Mean PM2.5Mean PM2.5\n",
    "\n",
    "\n",
    "\n",
    "happiness score x freedom\n",
    "happiness score x trust\n",
    "happiness score x life expectancy\n",
    "happiness score x generosity\n",
    "happiness score x economy\n",
    "happiness score x social support\n",
    "\n",
    "happiness score x deaths from air quality per capita\n",
    "\n"
   ]
  }
 ],
 "metadata": {
  "language_info": {
   "codemirror_mode": {
    "name": "ipython",
    "version": 3
   },
   "file_extension": ".py",
   "mimetype": "text/x-python",
   "name": "python",
   "nbconvert_exporter": "python",
   "pygments_lexer": "ipython3",
   "version": 3
  },
  "orig_nbformat": 2,
  "kernelspec": {
   "name": "python_defaultSpec_1594496935627",
   "display_name": "Python 3.7.6 64-bit ('patri': virtualenv)"
  }
 },
 "nbformat": 4,
 "nbformat_minor": 2
}